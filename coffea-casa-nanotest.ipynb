{
 "cells": [
  {
   "cell_type": "code",
   "execution_count": null,
   "metadata": {},
   "outputs": [],
   "source": [
    "from __future__ import division, print_function"
   ]
  },
  {
   "cell_type": "code",
   "execution_count": null,
   "metadata": {},
   "outputs": [],
   "source": [
    "import os\n",
    "import os.path as osp\n",
    "import sys\n",
    "import warnings"
   ]
  },
  {
   "cell_type": "code",
   "execution_count": null,
   "metadata": {},
   "outputs": [],
   "source": [
    "import coffea.processor as processor\n",
    "import numpy as np\n",
    "from coffea import hist\n",
    "from coffea import processor as processor\n",
    "from coffea.analysis_objects import JaggedCandidateArray\n",
    "from coffea.processor.test_items import NanoTestProcessor\n",
    "from dask.distributed import Client, LocalCluster\n",
    "from dask_jobqueue import HTCondorCluster"
   ]
  },
  {
   "cell_type": "code",
   "execution_count": null,
   "metadata": {
    "lines_to_next_cell": 2
   },
   "outputs": [],
   "source": [
    "treename = 'Events'\n",
    "compression = 2"
   ]
  },
  {
   "cell_type": "code",
   "execution_count": null,
   "metadata": {},
   "outputs": [],
   "source": [
    "#'ZJets': ['/mnt/hadoop/user/uscms01/pnfs/unl.edu/data4/cms/store/user/oshadura/nano_dy.root'],\n",
    "#'Data' : ['/mnt/hadoop/user/uscms01/pnfs/unl.edu/data4/cms/store/user/oshadura/nano_dimuon.root']\n",
    "filelist = {\n",
    "        'ZJets': ['data/nano_dy.root'],\n",
    "        'Data' : ['data/nano_dimuon.root']\n",
    "        }"
   ]
  },
  {
   "cell_type": "code",
   "execution_count": null,
   "metadata": {},
   "outputs": [],
   "source": [
    "treename = 'Events'\n",
    "compression = 2"
   ]
  },
  {
   "cell_type": "code",
   "execution_count": null,
   "metadata": {},
   "outputs": [],
   "source": [
    "proc = NanoTestProcessor()"
   ]
  },
  {
   "cell_type": "code",
   "execution_count": null,
   "metadata": {},
   "outputs": [],
   "source": [
    "cluster = HTCondorCluster(cores=2, memory=\"2GB\", disk=\"1GB\", log_directory=\"logs\", silence_logs=\"debug\", scheduler_options={\"dashboard_address\":\"9998\"}, job_extra={\"universe\": \"docker\",\" docker_image\": \"oshadura/coffea-casa:latest\", \"container_service_names\": \"condor\", \"condor_container_port\": \"8787\", \"should_transfer_files\": \"YES\", \"when_to_transfer_output\": \"ON_EXIT\"})\n",
    "cluster.scale(jobs=1)\n",
    "client = Client(cluster)"
   ]
  },
  {
   "cell_type": "code",
   "execution_count": null,
   "metadata": {},
   "outputs": [],
   "source": [
    "print(\"Dask client: \", client)"
   ]
  },
  {
   "cell_type": "code",
   "execution_count": null,
   "metadata": {},
   "outputs": [],
   "source": [
    "exe_args = {\n",
    "        'client': client,\n",
    "        'compression': compression,\n",
    "}"
   ]
  },
  {
   "cell_type": "code",
   "execution_count": null,
   "metadata": {},
   "outputs": [],
   "source": [
    "hists = processor.run_uproot_job(filelist,\n",
    "                                 treename,\n",
    "                                 processor_instance=proc,\n",
    "                                 executor=processor.dask_executor,\n",
    "                                 #executor=processor.futures_executor,\n",
    "                                 executor_args=exe_args)"
   ]
  },
  {
   "cell_type": "code",
   "execution_count": null,
   "metadata": {},
   "outputs": [],
   "source": [
    "assert( hists['cutflow']['ZJets_pt'] == 18 )\n",
    "assert( hists['cutflow']['ZJets_mass'] == 6 )\n",
    "assert( hists['cutflow']['Data_pt'] == 84 )\n",
    "assert( hists['cutflow']['Data_mass'] == 66 )"
   ]
  }
 ],
 "metadata": {
  "jupytext": {
   "cell_metadata_filter": "-all",
   "main_language": "python",
   "notebook_metadata_filter": "-all"
  }
 },
 "nbformat": 4,
 "nbformat_minor": 2
}
